{
 "cells": [
  {
   "cell_type": "markdown",
   "metadata": {},
   "source": [
    "## 导入所需的包"
   ]
  },
  {
   "cell_type": "code",
   "execution_count": 15,
   "metadata": {
    "ExecuteTime": {
     "end_time": "2022-01-13T06:52:05.289284Z",
     "start_time": "2022-01-13T06:52:01.598928Z"
    },
    "pycharm": {
     "is_executing": true
    }
   },
   "outputs": [],
   "source": [
    "from autox.autox import AutoX"
   ]
  },
  {
   "cell_type": "markdown",
   "metadata": {},
   "source": [
    "## 配置数据信息"
   ]
  },
  {
   "cell_type": "code",
   "execution_count": 16,
   "metadata": {
    "ExecuteTime": {
     "end_time": "2022-01-13T06:52:05.333072Z",
     "start_time": "2022-01-13T06:52:05.291691Z"
    },
    "pycharm": {
     "is_executing": true
    },
    "scrolled": false
   },
   "outputs": [
    {
     "name": "stderr",
     "output_type": "stream",
     "text": [
      "   INFO ->  [+] read sample_submission.csv\n",
      "   INFO ->  Memory usage of dataframe is 9.54 MB\n",
      "   INFO ->  Memory usage after optimization is: 24.47 MB\n",
      "   INFO ->  Decreased by -156.5%\n",
      "   INFO ->  table = sample_submission.csv, shape = (625134, 2)\n",
      "   INFO ->  [+] read test.csv\n",
      "   INFO ->  Memory usage of dataframe is 42.92 MB\n",
      "   INFO ->  Memory usage after optimization is: 53.01 MB\n",
      "   INFO ->  Decreased by -23.5%\n",
      "   INFO ->  table = test.csv, shape = (625134, 9)\n",
      "   INFO ->  [+] read train.csv\n",
      "   INFO ->  Memory usage of dataframe is 122.41 MB\n",
      "   INFO ->  Memory usage after optimization is: 166.50 MB\n",
      "   INFO ->  Decreased by -36.0%\n",
      "   INFO ->  table = train.csv, shape = (1458644, 11)\n"
     ]
    }
   ],
   "source": [
    "# 选择数据集\n",
    "data_name = './nyc-taxi-trip-duration/'#'汽车销量预测'\n",
    "path = f'./nyc-taxi-trip-duration/'#'../../data/{data_name}'\n",
    "#id\tvendor_id\tpickup_datetime\tdropoff_datetime\tpassenger_count\tpickup_longitude\tpickup_latitude\tdropoff_longitude\tdropoff_latitude\tstore_and_fwd_flag\ttrip_duration\n",
    "#id2875421\t2\t2016/3/14 17:24\t2016/3/14 17:32\t1\t-73.98215485\t40.76793671\t-73.96463013\t40.76560211\tN\t455\n",
    "\n",
    "\n",
    "#c1,c2,c3,c4,c5,c6,date\n",
    "#aaa,11,22,1.2,11.3,1.6361E+12,2021/7/20\n",
    "feature_type = {\n",
    "    'test.csv': {\n",
    "        'id':'cat',\n",
    "        'vendor_id':'cat',\n",
    "        'pickup_datetime':'datetime',\n",
    "        'dropoff_datetime':'datetime',\n",
    "        'passenger_count':'num',\n",
    "        'pickup_longitude':'num',\n",
    "        'pickup_latitude':'num',\n",
    "        'dropoff_longitude':'num',\n",
    "        'dropoff_latitude':'num',\n",
    "        'store_and_fwd_flag':'cat'#,\n",
    "        #'trip_duration':'num'\n",
    "    },\n",
    "    'train.csv': {\n",
    "        'id':'cat',\n",
    "        'vendor_id':'cat',\n",
    "        'pickup_datetime':'datetime',\n",
    "        'dropoff_datetime':'datetime',\n",
    "        'passenger_count':'num',\n",
    "        'pickup_longitude':'num',\n",
    "        'pickup_latitude':'num',\n",
    "        'dropoff_longitude':'num',\n",
    "        'dropoff_latitude':'num',\n",
    "        'store_and_fwd_flag':'cat',\n",
    "        'trip_duration':'num'\n",
    "    }\n",
    "}\n",
    "\n",
    "\n",
    "autox = AutoX(target = 'trip_duration', train_name = 'train.csv', test_name = 'test.csv',\n",
    "               id = ['id', 'vendor_id'], path = path, time_series=True, ts_unit='minute',time_col = ['pickup_datetime','dropoff_datetime'],\n",
    "               feature_type = feature_type)"
   ]
  },
  {
   "cell_type": "code",
   "execution_count": null,
   "metadata": {
    "ExecuteTime": {
     "end_time": "2022-01-13T06:53:10.424171Z",
     "start_time": "2022-01-13T06:52:05.334946Z"
    },
    "pycharm": {
     "is_executing": true
    },
    "scrolled": true
   },
   "outputs": [
    {
     "name": "stderr",
     "output_type": "stream",
     "text": [
      "   INFO ->  start feature engineer\n",
      "   INFO ->  feature engineer: one2M\n",
      "   INFO ->  featureOne2M ops: {}\n",
      "   INFO ->  ignore featureOne2M\n",
      "   INFO ->  feature engineer: time\n",
      "   INFO ->  featureTime ops: ['pickup_datetime', 'dropoff_datetime']\n",
      "100%|██████████| 2/2 [00:06<00:00,  3.20s/it]\n",
      "   INFO ->  feature engineer: ShiftTS\n",
      "   INFO ->  featureShiftTS ops: ['passenger_count', 'pickup_longitude', 'pickup_latitude', 'dropoff_longitude', 'dropoff_latitude', 'trip_duration']\n",
      "   INFO ->  featureShiftTS lags: [1, 2, 3]\n",
      "3it [50:07, 1006.13s/it]"
     ]
    }
   ],
   "source": [
    "sub = autox.get_submit_ts()"
   ]
  },
  {
   "cell_type": "code",
   "execution_count": null,
   "metadata": {
    "ExecuteTime": {
     "end_time": "2022-01-13T06:53:10.447961Z",
     "start_time": "2022-01-13T06:53:10.426951Z"
    },
    "pycharm": {
     "is_executing": true
    },
    "scrolled": true
   },
   "outputs": [],
   "source": [
    "sub"
   ]
  },
  {
   "cell_type": "code",
   "execution_count": null,
   "metadata": {
    "pycharm": {
     "is_executing": true
    }
   },
   "outputs": [],
   "source": [
    "\n",
    "import torch\n",
    "import torch.nn as nn\n",
    "\n",
    "# target output size of 5x7\n",
    "m = nn.AdaptiveMaxPool2d(112)\n",
    "input = torch.randn(20, 1, 224, 224)\n",
    "output = m(input)\n",
    "print(output.shape)\n",
    "\n",
    "m = nn.AdaptiveMaxPool2d(56)\n",
    "#input = torch.randn(20, 1, 224, 224)\n",
    "output = m(output)\n",
    "print(output.shape)\n",
    "# target output size of 5x7\n",
    "\n",
    "\n",
    "\n",
    "m = nn.AdaptiveMaxPool2d(24)\n",
    "#input = torch.randn(20, 1, 224, 224)\n",
    "output = m(output)\n",
    "print(output.shape)\n",
    "# target output size of 5x7\n",
    "\n",
    "m = nn.AdaptiveMaxPool2d((5,7))\n",
    "input = torch.randn(1, 64, 8, 9)\n",
    "output = m(input)\n",
    "print(output.shape)\n",
    "# target output size of 7x7 (square)\n",
    "m = nn.AdaptiveMaxPool2d(7)\n",
    "input = torch.randn(1, 64, 10, 9)\n",
    "output = m(input)\n",
    "print(output.shape)\n",
    "# target output size of 10x7\n",
    "m = nn.AdaptiveMaxPool2d((None, 7))\n",
    "input = torch.randn(1, 64, 10, 9)\n",
    "output = m(input)\n",
    "print(output.shape)"
   ]
  },
  {
   "cell_type": "code",
   "execution_count": null,
   "metadata": {},
   "outputs": [],
   "source": []
  },
  {
   "cell_type": "code",
   "execution_count": null,
   "metadata": {},
   "outputs": [],
   "source": []
  }
 ],
 "metadata": {
  "kernelspec": {
   "display_name": "PyCharm (AutoX-master)",
   "language": "python",
   "name": "pycharm-7935df2d"
  },
  "language_info": {
   "codemirror_mode": {
    "name": "ipython",
    "version": 3
   },
   "file_extension": ".py",
   "mimetype": "text/x-python",
   "name": "python",
   "nbconvert_exporter": "python",
   "pygments_lexer": "ipython3",
   "version": "3.8.12"
  },
  "toc": {
   "base_numbering": 1,
   "nav_menu": {},
   "number_sections": true,
   "sideBar": true,
   "skip_h1_title": false,
   "title_cell": "Table of Contents",
   "title_sidebar": "Contents",
   "toc_cell": false,
   "toc_position": {},
   "toc_section_display": true,
   "toc_window_display": true
  },
  "varInspector": {
   "cols": {
    "lenName": 16,
    "lenType": 16,
    "lenVar": 40
   },
   "kernels_config": {
    "python": {
     "delete_cmd_postfix": "",
     "delete_cmd_prefix": "del ",
     "library": "var_list.py",
     "varRefreshCmd": "print(var_dic_list())"
    },
    "r": {
     "delete_cmd_postfix": ") ",
     "delete_cmd_prefix": "rm(",
     "library": "var_list.r",
     "varRefreshCmd": "cat(var_dic_list()) "
    }
   },
   "types_to_exclude": [
    "module",
    "function",
    "builtin_function_or_method",
    "instance",
    "_Feature"
   ],
   "window_display": false
  }
 },
 "nbformat": 4,
 "nbformat_minor": 5
}
