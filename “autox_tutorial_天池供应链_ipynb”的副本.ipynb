{
  "nbformat": 4,
  "nbformat_minor": 5,
  "metadata": {
    "colab": {
      "name": "“autox_tutorial_天池供应链.ipynb”的副本",
      "provenance": [],
      "collapsed_sections": [],
      "include_colab_link": true
    },
    "kernelspec": {
      "display_name": "Python 3",
      "language": "python",
      "name": "python3"
    },
    "language_info": {
      "codemirror_mode": {
        "name": "ipython",
        "version": 3
      },
      "file_extension": ".py",
      "mimetype": "text/x-python",
      "name": "python",
      "nbconvert_exporter": "python",
      "pygments_lexer": "ipython3",
      "version": "3.7.10"
    },
    "toc": {
      "base_numbering": 1,
      "nav_menu": {},
      "number_sections": true,
      "sideBar": true,
      "skip_h1_title": false,
      "title_cell": "Table of Contents",
      "title_sidebar": "Contents",
      "toc_cell": false,
      "toc_position": {
        "height": "calc(100% - 180px)",
        "left": "10px",
        "top": "150px",
        "width": "253px"
      },
      "toc_section_display": true,
      "toc_window_display": true
    }
  },
  "cells": [
    {
      "cell_type": "markdown",
      "metadata": {
        "id": "view-in-github",
        "colab_type": "text"
      },
      "source": [
        "<a href=\"https://colab.research.google.com/github/explcre/AutoX/blob/master/%E2%80%9Cautox_tutorial_%E5%A4%A9%E6%B1%A0%E4%BE%9B%E5%BA%94%E9%93%BE_ipynb%E2%80%9D%E7%9A%84%E5%89%AF%E6%9C%AC.ipynb\" target=\"_parent\"><img src=\"https://colab.research.google.com/assets/colab-badge.svg\" alt=\"Open In Colab\"/></a>"
      ]
    },
    {
      "cell_type": "markdown",
      "metadata": {
        "id": "Kqa3GIVdqT9N"
      },
      "source": [
        "赛题链接: [2021阿里云供应链大赛](https://tianchi.aliyun.com/competition/entrance/531934/introduction)\n",
        "\n"
      ],
      "id": "Kqa3GIVdqT9N"
    },
    {
      "cell_type": "code",
      "metadata": {
        "colab": {
          "base_uri": "https://localhost:8080/"
        },
        "id": "h0OZTQZ3jJJ3",
        "outputId": "c332ef4c-922c-45a4-cb2d-239732f188ad"
      },
      "source": [
        "# 安装autox\n",
        "!git clone https://github.com/4paradigm/AutoX.git\n",
        "!pip install pytorch_tabnet\n",
        "!pip install ./AutoX"
      ],
      "id": "h0OZTQZ3jJJ3",
      "execution_count": null,
      "outputs": [
        {
          "output_type": "stream",
          "name": "stdout",
          "text": [
            "Cloning into 'AutoX'...\n",
            "remote: Enumerating objects: 5165, done.\u001b[K\n",
            "remote: Counting objects: 100% (734/734), done.\u001b[K\n",
            "remote: Compressing objects: 100% (157/157), done.\u001b[K\n",
            "remote: Total 5165 (delta 606), reused 661 (delta 575), pack-reused 4431\u001b[K\n",
            "Receiving objects: 100% (5165/5165), 61.63 MiB | 24.88 MiB/s, done.\n",
            "Resolving deltas: 100% (2880/2880), done.\n",
            "Looking in indexes: https://pypi.org/simple, https://us-python.pkg.dev/colab-wheels/public/simple/\n",
            "Collecting pytorch_tabnet\n",
            "  Downloading pytorch_tabnet-3.1.1-py3-none-any.whl (39 kB)\n",
            "Requirement already satisfied: torch<2.0,>=1.2 in /usr/local/lib/python3.7/dist-packages (from pytorch_tabnet) (1.12.0+cu113)\n",
            "Requirement already satisfied: numpy<2.0,>=1.17 in /usr/local/lib/python3.7/dist-packages (from pytorch_tabnet) (1.21.6)\n",
            "Requirement already satisfied: scipy>1.4 in /usr/local/lib/python3.7/dist-packages (from pytorch_tabnet) (1.7.3)\n",
            "Requirement already satisfied: scikit_learn>0.21 in /usr/local/lib/python3.7/dist-packages (from pytorch_tabnet) (1.0.2)\n",
            "Requirement already satisfied: tqdm<5.0,>=4.36 in /usr/local/lib/python3.7/dist-packages (from pytorch_tabnet) (4.64.0)\n",
            "Requirement already satisfied: threadpoolctl>=2.0.0 in /usr/local/lib/python3.7/dist-packages (from scikit_learn>0.21->pytorch_tabnet) (3.1.0)\n",
            "Requirement already satisfied: joblib>=0.11 in /usr/local/lib/python3.7/dist-packages (from scikit_learn>0.21->pytorch_tabnet) (1.1.0)\n",
            "Requirement already satisfied: typing-extensions in /usr/local/lib/python3.7/dist-packages (from torch<2.0,>=1.2->pytorch_tabnet) (4.1.1)\n",
            "Installing collected packages: pytorch-tabnet\n",
            "Successfully installed pytorch-tabnet-3.1.1\n",
            "Looking in indexes: https://pypi.org/simple, https://us-python.pkg.dev/colab-wheels/public/simple/\n",
            "Processing ./AutoX\n",
            "\u001b[33m  DEPRECATION: A future pip version will change local packages to be built in-place without first copying to a temporary directory. We recommend you use --use-feature=in-tree-build to test your packages with this new behavior before it becomes the default.\n",
            "   pip 21.3 will remove support for this functionality. You can find discussion regarding this at https://github.com/pypa/pip/issues/7555.\u001b[0m\n"
          ]
        }
      ]
    },
    {
      "cell_type": "code",
      "metadata": {
        "colab": {
          "base_uri": "https://localhost:8080/"
        },
        "id": "5_z2e5bkjYXJ",
        "outputId": "ce1640a3-395e-42d2-8032-1443942209e5"
      },
      "source": [
        "# tianchi_clp.zip中包含 赛事链接中下载的所有csv文件\n",
        "!unzip tianchi_clp.zip"
      ],
      "id": "5_z2e5bkjYXJ",
      "execution_count": null,
      "outputs": [
        {
          "output_type": "stream",
          "name": "stdout",
          "text": [
            "Archive:  tianchi_clp.zip\n",
            "   creating: tianchi_clp/\n",
            "  inflating: tianchi_clp/demand_train_A.csv  \n",
            "  inflating: __MACOSX/tianchi_clp/._demand_train_A.csv  \n",
            "  inflating: tianchi_clp/geo_topo.csv  \n",
            "  inflating: __MACOSX/tianchi_clp/._geo_topo.csv  \n",
            "  inflating: tianchi_clp/product_topo.csv  \n",
            "  inflating: __MACOSX/tianchi_clp/._product_topo.csv  \n",
            "  inflating: tianchi_clp/inventory_info_A.csv  \n",
            "  inflating: __MACOSX/tianchi_clp/._inventory_info_A.csv  \n",
            "  inflating: tianchi_clp/weight_A.csv  \n",
            "  inflating: __MACOSX/tianchi_clp/._weight_A.csv  \n",
            "  inflating: tianchi_clp/demand_test_A.csv  \n",
            "  inflating: __MACOSX/tianchi_clp/._demand_test_A.csv  \n"
          ]
        }
      ]
    },
    {
      "cell_type": "code",
      "metadata": {
        "id": "2R0k2AnSm24u"
      },
      "source": [
        "import os\n",
        "import pandas as pd"
      ],
      "id": "2R0k2AnSm24u",
      "execution_count": null,
      "outputs": []
    },
    {
      "cell_type": "markdown",
      "metadata": {
        "id": "18e18021"
      },
      "source": [
        "## 数据预处理"
      ],
      "id": "18e18021"
    },
    {
      "cell_type": "code",
      "metadata": {
        "id": "9f2083d9"
      },
      "source": [
        "data_name = 'tianchi_clp'\n",
        "path = f'./{data_name}'"
      ],
      "id": "9f2083d9",
      "execution_count": null,
      "outputs": []
    },
    {
      "cell_type": "code",
      "metadata": {
        "id": "4e24732e"
      },
      "source": [
        "# 赛题数据demand_test_A中给了标签，我们需要将它删掉。同时我们顺便删掉无用的'Unnamed: 0'列\n",
        "\n",
        "demand_train_A = pd.read_csv(f'{path}/demand_train_A.csv')\n",
        "demand_test_A = pd.read_csv(f'{path}/demand_test_A.csv')\n",
        "\n",
        "demand_train_A.drop('Unnamed: 0', axis=1, inplace=True)\n",
        "demand_test_A.drop(['Unnamed: 0', 'qty'], axis=1, inplace=True)"
      ],
      "id": "4e24732e",
      "execution_count": null,
      "outputs": []
    },
    {
      "cell_type": "code",
      "metadata": {
        "id": "4d43adc9",
        "scrolled": true
      },
      "source": [
        "# 将 demand_train_A, demand_test_A 保存为train.csv, test.csv\n",
        "demand_train_A.to_csv(path + '/train.csv', index = False)\n",
        "demand_test_A.to_csv(path + '/test.csv', index = False)"
      ],
      "id": "4d43adc9",
      "execution_count": null,
      "outputs": []
    },
    {
      "cell_type": "markdown",
      "metadata": {
        "id": "4fea2309"
      },
      "source": [
        "## 导入所需的包"
      ],
      "id": "4fea2309"
    },
    {
      "cell_type": "code",
      "metadata": {
        "id": "9185f791",
        "scrolled": false
      },
      "source": [
        "from autox import AutoX"
      ],
      "id": "9185f791",
      "execution_count": null,
      "outputs": []
    },
    {
      "cell_type": "markdown",
      "metadata": {
        "id": "91ebd124"
      },
      "source": [
        "## 初始化AutoX类"
      ],
      "id": "91ebd124"
    },
    {
      "cell_type": "code",
      "metadata": {
        "id": "69ac2548"
      },
      "source": [
        "# 数据集是多表数据集，需要配置表关系\n",
        "relations = [\n",
        "    {\n",
        "            \"related_to_main_table\": \"true\", # 是否为和主表的关系\n",
        "            \"left_entity\": \"train.csv\",  # 左表名字\n",
        "            \"left_on\": [\"product\"],  # 左表拼表键\n",
        "            \"right_entity\": \"product_topo.csv\",  # 右表名字\n",
        "            \"right_on\": [\"product_level_2\"], # 右表拼表键\n",
        "            \"type\": \"1-1\" # 左表与右表的连接关系\n",
        "        },  # train.csv和product_topo.csv两张表是1对1的关系，拼接键为train.csv中的product列 和 product_topo.csv中的product_level_2列\n",
        "    {\n",
        "            \"related_to_main_table\": \"true\", # 是否为和主表的关系\n",
        "            \"left_entity\": \"test.csv\",  # 左表名字\n",
        "            \"left_on\": [\"product\"],  # 左表拼表键\n",
        "            \"right_entity\": \"product_topo.csv\",  # 右表名字\n",
        "            \"right_on\": [\"product_level_2\"], # 右表拼表键\n",
        "            \"type\": \"1-1\" # 左表与右表的连接关系\n",
        "        },  # test.csv和product_topo.csv两张表是1对1的关系，拼接键为test.csv中的product列 和 product_topo.csv中的product_level_2列\n",
        "    {\n",
        "            \"related_to_main_table\": \"true\", # 是否为和主表的关系\n",
        "            \"left_entity\": \"train.csv\",  # 左表名字\n",
        "            \"left_on\": [\"geography\"],  # 左表拼表键\n",
        "            \"right_entity\": \"geo_topo.csv\",  # 右表名字\n",
        "            \"right_on\": [\"geography_level_3\"], # 右表拼表键\n",
        "            \"type\": \"1-1\" # 左表与右表的连接关系\n",
        "        },  # train.csv和geo_topo.csv两张表是1对1的关系，拼接键为train.csv中的geography列 和 geo_topo.csv中的geography_level_3列\n",
        "    {\n",
        "            \"related_to_main_table\": \"true\", # 是否为和主表的关系\n",
        "            \"left_entity\": \"test.csv\",  # 左表名字\n",
        "            \"left_on\": [\"geography\"],  # 左表拼表键\n",
        "            \"right_entity\": \"geo_topo.csv\",  # 右表名字\n",
        "            \"right_on\": [\"geography_level_3\"], # 右表拼表键\n",
        "            \"type\": \"1-1\" # 左表与右表的连接关系\n",
        "        } # test.csv和geo_topo.csv两张表是1对1的关系，拼接键为test.csv中的geography列 和 geo_topo.csv中的geography_level_3列\n",
        "]"
      ],
      "id": "69ac2548",
      "execution_count": null,
      "outputs": []
    },
    {
      "cell_type": "code",
      "metadata": {
        "colab": {
          "base_uri": "https://localhost:8080/"
        },
        "id": "3af307da",
        "scrolled": true,
        "outputId": "653bb71d-7ea0-494b-b8b0-250338f4fa4f"
      },
      "source": [
        "autox = AutoX(target = 'qty', train_name = 'train.csv', test_name = 'test.csv', \n",
        "               id = ['unit'], path = path, time_series=True, ts_unit='D',time_col = 'ts',\n",
        "               relations = relations\n",
        "              )  #feature_type = feature_type,"
      ],
      "id": "3af307da",
      "execution_count": null,
      "outputs": [
        {
          "output_type": "stream",
          "name": "stderr",
          "text": [
            "   INFO ->  [+] read train.csv\n",
            "   INFO ->  Memory usage of dataframe is 15.21 MB\n",
            "   INFO ->  Memory usage after optimization is: 3.33 MB\n",
            "   INFO ->  Decreased by 78.1%\n",
            "   INFO ->  table = train.csv, shape = (284832, 7)\n",
            "   INFO ->  [+] read test.csv\n",
            "   INFO ->  Memory usage of dataframe is 2.84 MB\n",
            "   INFO ->  Memory usage after optimization is: 0.45 MB\n",
            "   INFO ->  Decreased by 84.3%\n",
            "   INFO ->  table = test.csv, shape = (61936, 6)\n",
            "   INFO ->  [+] read product_topo.csv\n",
            "   INFO ->  Memory usage of dataframe is 0.00 MB\n",
            "   INFO ->  Memory usage after optimization is: 0.00 MB\n",
            "   INFO ->  Decreased by -166.2%\n",
            "   INFO ->  table = product_topo.csv, shape = (19, 2)\n",
            "   INFO ->  [+] read demand_test_A.csv\n",
            "   INFO ->  Memory usage of dataframe is 3.78 MB\n",
            "   INFO ->  Memory usage after optimization is: 0.92 MB\n",
            "   INFO ->  Decreased by 75.7%\n",
            "   INFO ->  table = demand_test_A.csv, shape = (61936, 8)\n",
            "   INFO ->  [+] read demand_train_A.csv\n",
            "   INFO ->  Memory usage of dataframe is 17.38 MB\n",
            "   INFO ->  Memory usage after optimization is: 4.42 MB\n",
            "   INFO ->  Decreased by 74.6%\n",
            "   INFO ->  table = demand_train_A.csv, shape = (284832, 8)\n",
            "   INFO ->  [+] read inventory_info_A.csv\n",
            "   INFO ->  Memory usage of dataframe is 0.04 MB\n",
            "   INFO ->  Memory usage after optimization is: 0.04 MB\n",
            "   INFO ->  Decreased by 9.1%\n",
            "   INFO ->  table = inventory_info_A.csv, shape = (632, 8)\n",
            "   INFO ->  [+] read geo_topo.csv\n",
            "   INFO ->  Memory usage of dataframe is 0.00 MB\n",
            "   INFO ->  Memory usage after optimization is: 0.01 MB\n",
            "   INFO ->  Decreased by -140.5%\n",
            "   INFO ->  table = geo_topo.csv, shape = (91, 3)\n",
            "   INFO ->  [+] read weight_A.csv\n",
            "   INFO ->  Memory usage of dataframe is 0.01 MB\n",
            "   INFO ->  Memory usage after optimization is: 0.03 MB\n",
            "   INFO ->  Decreased by -92.6%\n",
            "   INFO ->  table = weight_A.csv, shape = (632, 3)\n"
          ]
        }
      ]
    },
    {
      "cell_type": "code",
      "metadata": {
        "colab": {
          "base_uri": "https://localhost:8080/"
        },
        "id": "df9582f9",
        "scrolled": true,
        "outputId": "4521d7b9-5995-4656-bbfb-bcb23792899a"
      },
      "source": [
        "sub = autox.get_submit_ts()"
      ],
      "id": "df9582f9",
      "execution_count": null,
      "outputs": [
        {
          "output_type": "stream",
          "name": "stderr",
          "text": [
            "   INFO ->  start feature engineer\n",
            "   INFO ->  feature engineer: one2M\n",
            "   INFO ->  featureOne2M ops: {}\n",
            "   INFO ->  ignore featureOne2M\n",
            "   INFO ->  feature engineer: time\n",
            "   INFO ->  featureTime ops: ['ts']\n",
            "100%|██████████| 1/1 [00:00<00:00,  4.20it/s]\n",
            "   INFO ->  feature engineer: ShiftTS\n",
            "   INFO ->  featureShiftTS ops: ['qty']\n",
            "   INFO ->  featureShiftTS lags: [98, 99, 100, 101, 105, 112, 119, 128, 196, 294]\n",
            "1it [00:03,  3.67s/it]\n",
            "   INFO ->  feature engineer: RollingStatTS\n",
            "   INFO ->  featureRollingStatTS ops: ['qty']\n",
            "   INFO ->  featureRollingStatTS windows: [105, 112, 196]\n",
            "100%|██████████| 1/1 [00:08<00:00,  8.44s/it]\n",
            "   INFO ->  feature engineer: ExpWeightedMean\n",
            "   INFO ->  featureExpWeightedMean ops: ['qty']\n",
            "   INFO ->  featureExpWeightedMean lags: [98, 99, 100, 101, 105, 112, 119, 128, 196, 294]\n",
            "1it [00:04,  4.90s/it]\n",
            "100%|██████████| 10/10 [00:00<00:00, 11.20it/s]\n",
            "   INFO ->  label_encoder_list: ['unit', 'geography_level', 'geography', 'product_level', 'product', 'product_topo.csv__product_level_1', 'geo_topo.csv__geography_level_1', 'geo_topo.csv__geography_level_2']\n",
            "   INFO ->  ordinal_encoder_list: []\n",
            "   INFO ->  feature combination\n",
            "100%|██████████| 5/5 [00:00<00:00, 41.78it/s]\n",
            "   INFO ->  shape of FE_all: (346768, 56), shape of train: (284832, 56), shape of test: (61936, 56)\n",
            "   INFO ->  feature filter\n",
            "100%|██████████| 47/47 [00:00<00:00, 104.73it/s]\n",
            "   INFO ->  filtered features: ['unit', 'qty', 'ts_hour']\n",
            "   INFO ->  used_features: ['unit_encoder', 'ts_year', 'ts_month', 'ts_day', 'ts_weekofyear', 'ts_dayofweek', 'ts_is_wknd', 'ts_quarter', 'ts_is_month_start', 'ts_is_month_end', 'unit__qty__lag_98', 'unit__qty__lag_99', 'unit__qty__lag_100', 'unit__qty__lag_101', 'unit__qty__lag_105', 'unit__qty__lag_112', 'unit__qty__lag_119', 'unit__qty__lag_128', 'unit__qty__lag_196', 'unit__qty__lag_294', 'unit__qty_roll_mean_105', 'unit__qty_roll_mean_112', 'unit__qty_roll_mean_196', 'unit__qty_roll_std_105', 'unit__qty_roll_std_112', 'unit__qty_roll_std_196', 'unit__qty_roll_median_105', 'unit__qty_roll_median_112', 'unit__qty_roll_median_196', 'unit__qty_roll_max_105', 'unit__qty_roll_max_112', 'unit__qty_roll_max_196', 'unit__qty_roll_min_105', 'unit__qty_roll_min_112', 'unit__qty_roll_min_196', 'unit__qty__ewm_98', 'unit__qty__ewm_99', 'unit__qty__ewm_100', 'unit__qty__ewm_101', 'unit__qty__ewm_105', 'unit__qty__ewm_112', 'unit__qty__ewm_119', 'unit__qty__ewm_128', 'unit__qty__ewm_196', 'unit__qty__ewm_294']\n",
            "   INFO ->  start training model\n",
            "   INFO ->  (284832, 45)\n"
          ]
        },
        {
          "output_type": "stream",
          "name": "stdout",
          "text": [
            "Training with validation\n",
            "Training until validation scores don't improve for 150 rounds.\n",
            "[100]\ttraining's rmse: 5127.63\tvalid_1's rmse: 5165.84\n",
            "[200]\ttraining's rmse: 2285.57\tvalid_1's rmse: 2255.62\n",
            "[300]\ttraining's rmse: 1435.1\tvalid_1's rmse: 1561.21\n",
            "[400]\ttraining's rmse: 1227.52\tvalid_1's rmse: 1496.17\n",
            "[500]\ttraining's rmse: 1155.21\tvalid_1's rmse: 1492.54\n",
            "[600]\ttraining's rmse: 1116.56\tvalid_1's rmse: 1493.26\n",
            "[700]\ttraining's rmse: 1086.3\tvalid_1's rmse: 1498.03\n",
            "Early stopping, best iteration is:\n",
            "[550]\ttraining's rmse: 1132.34\tvalid_1's rmse: 1489.08\n",
            "MSE: 2217350.6524344618\n",
            "Finished in 0:00:20.011857\n",
            "ReTraining on all data\n",
            "[100]\ttraining's rmse: 5168.39\n",
            "[200]\ttraining's rmse: 2261.06\n",
            "[300]\ttraining's rmse: 1371.38\n",
            "[400]\ttraining's rmse: 1153.18\n",
            "[500]\ttraining's rmse: 1082.99\n",
            "[600]\ttraining's rmse: 1046.51\n"
          ]
        },
        {
          "output_type": "stream",
          "name": "stderr",
          "text": [
            "   INFO ->  (284832, 45)\n"
          ]
        },
        {
          "output_type": "stream",
          "name": "stdout",
          "text": [
            "Finished in 0:00:20.869695\n",
            "Training with validation\n",
            "[06:40:21] WARNING: /workspace/src/objective/regression_obj.cu:152: reg:linear is now deprecated in favor of reg:squarederror.\n",
            "[0]\tvalidation_0-rmse:14057\n",
            "Will train until validation_0-rmse hasn't improved in 100 rounds.\n",
            "[100]\tvalidation_0-rmse:658.924\n",
            "[200]\tvalidation_0-rmse:661.605\n",
            "Stopping. Best iteration:\n",
            "[126]\tvalidation_0-rmse:656.225\n",
            "\n",
            "MSE: 430653.0625\n",
            "Finished in 0:09:16.511224\n",
            "ReTraining on all data\n",
            "[06:49:38] WARNING: /workspace/src/objective/regression_obj.cu:152: reg:linear is now deprecated in favor of reg:squarederror.\n",
            "[0]\tvalidation_0-rmse:13673.8\n",
            "[100]\tvalidation_0-rmse:673.463\n",
            "[143]\tvalidation_0-rmse:607.733\n"
          ]
        },
        {
          "output_type": "stream",
          "name": "stderr",
          "text": [
            "   INFO ->  feature importance\n",
            "   INFO ->                        feature  feature_importance\n",
            "0                unit_encoder                2107\n",
            "1                     ts_year                 322\n",
            "2                    ts_month                 390\n",
            "3                      ts_day                 114\n",
            "4               ts_weekofyear                1127\n",
            "5                ts_dayofweek                   5\n",
            "6                  ts_is_wknd                   0\n",
            "7                  ts_quarter                  29\n",
            "8           ts_is_month_start                   0\n",
            "9             ts_is_month_end                   1\n",
            "10          unit__qty__lag_98                 231\n",
            "11          unit__qty__lag_99                  82\n",
            "12         unit__qty__lag_100                  81\n",
            "13         unit__qty__lag_101                 101\n",
            "14         unit__qty__lag_105                 245\n",
            "15         unit__qty__lag_112                 121\n",
            "16         unit__qty__lag_119                 132\n",
            "17         unit__qty__lag_128                 209\n",
            "18         unit__qty__lag_196                 499\n",
            "19         unit__qty__lag_294                 550\n",
            "20    unit__qty_roll_mean_105                 360\n",
            "21    unit__qty_roll_mean_112                 137\n",
            "22    unit__qty_roll_mean_196                 316\n",
            "23     unit__qty_roll_std_105                 701\n",
            "24     unit__qty_roll_std_112                 745\n",
            "25     unit__qty_roll_std_196                 934\n",
            "26  unit__qty_roll_median_105                1046\n",
            "27  unit__qty_roll_median_112                 337\n",
            "28  unit__qty_roll_median_196                 151\n",
            "29     unit__qty_roll_max_105                2653\n",
            "30     unit__qty_roll_max_112                 949\n",
            "31     unit__qty_roll_max_196                1143\n",
            "32     unit__qty_roll_min_105                 963\n",
            "33     unit__qty_roll_min_112                 407\n",
            "34     unit__qty_roll_min_196                 524\n",
            "35          unit__qty__ewm_98                 108\n",
            "36          unit__qty__ewm_99                  44\n",
            "37         unit__qty__ewm_100                  32\n",
            "38         unit__qty__ewm_101                  53\n",
            "39         unit__qty__ewm_105                 168\n",
            "40         unit__qty__ewm_112                  85\n",
            "41         unit__qty__ewm_119                  65\n",
            "42         unit__qty__ewm_128                 110\n",
            "43         unit__qty__ewm_196                 268\n",
            "44         unit__qty__ewm_294                 399\n"
          ]
        },
        {
          "output_type": "stream",
          "name": "stdout",
          "text": [
            "Finished in 0:08:18.526764\n"
          ]
        }
      ]
    },
    {
      "cell_type": "code",
      "metadata": {
        "colab": {
          "base_uri": "https://localhost:8080/",
          "height": 206
        },
        "id": "22dce147",
        "outputId": "2e57082a-688e-444b-a583-a19f08a1660c"
      },
      "source": [
        "# 查看预测结果\n",
        "sub.head()"
      ],
      "id": "22dce147",
      "execution_count": null,
      "outputs": [
        {
          "output_type": "execute_result",
          "data": {
            "text/html": [
              "<div>\n",
              "<style scoped>\n",
              "    .dataframe tbody tr th:only-of-type {\n",
              "        vertical-align: middle;\n",
              "    }\n",
              "\n",
              "    .dataframe tbody tr th {\n",
              "        vertical-align: top;\n",
              "    }\n",
              "\n",
              "    .dataframe thead th {\n",
              "        text-align: right;\n",
              "    }\n",
              "</style>\n",
              "<table border=\"1\" class=\"dataframe\">\n",
              "  <thead>\n",
              "    <tr style=\"text-align: right;\">\n",
              "      <th></th>\n",
              "      <th>unit</th>\n",
              "      <th>ts</th>\n",
              "      <th>qty</th>\n",
              "    </tr>\n",
              "  </thead>\n",
              "  <tbody>\n",
              "    <tr>\n",
              "      <th>0</th>\n",
              "      <td>0efede250ca3d05f9d4cc3609242d804</td>\n",
              "      <td>2021-03-02</td>\n",
              "      <td>3216.700945</td>\n",
              "    </tr>\n",
              "    <tr>\n",
              "      <th>1</th>\n",
              "      <td>fbb83aefc6f5d6f6bc22ae3ee757d327</td>\n",
              "      <td>2021-03-02</td>\n",
              "      <td>51.150187</td>\n",
              "    </tr>\n",
              "    <tr>\n",
              "      <th>2</th>\n",
              "      <td>392aaa20e70b4d7539cc7a2e09562521</td>\n",
              "      <td>2021-03-02</td>\n",
              "      <td>49.285081</td>\n",
              "    </tr>\n",
              "    <tr>\n",
              "      <th>3</th>\n",
              "      <td>2effa036807329a88056093fabb07ce6</td>\n",
              "      <td>2021-03-02</td>\n",
              "      <td>36168.939016</td>\n",
              "    </tr>\n",
              "    <tr>\n",
              "      <th>4</th>\n",
              "      <td>7dc25ea61b4d47f7de6c7a8d8d559487</td>\n",
              "      <td>2021-03-02</td>\n",
              "      <td>57862.451527</td>\n",
              "    </tr>\n",
              "  </tbody>\n",
              "</table>\n",
              "</div>"
            ],
            "text/plain": [
              "                               unit          ts           qty\n",
              "0  0efede250ca3d05f9d4cc3609242d804  2021-03-02   3216.700945\n",
              "1  fbb83aefc6f5d6f6bc22ae3ee757d327  2021-03-02     51.150187\n",
              "2  392aaa20e70b4d7539cc7a2e09562521  2021-03-02     49.285081\n",
              "3  2effa036807329a88056093fabb07ce6  2021-03-02  36168.939016\n",
              "4  7dc25ea61b4d47f7de6c7a8d8d559487  2021-03-02  57862.451527"
            ]
          },
          "metadata": {},
          "execution_count": 11
        }
      ]
    },
    {
      "cell_type": "code",
      "metadata": {
        "id": "eda5a3e2"
      },
      "source": [
        "# 检查预测结果和真实结果的差距\n",
        "sub.rename({'qty': 'qty_pre'}, axis=1, inplace=True)\n",
        "demand_test_A = pd.read_csv(f'{path}/demand_test_A.csv', usecols = ['unit','ts','qty'])"
      ],
      "id": "eda5a3e2",
      "execution_count": null,
      "outputs": []
    },
    {
      "cell_type": "code",
      "metadata": {
        "id": "a778c10e"
      },
      "source": [
        "analyze = demand_test_A.merge(sub, on = ['unit', 'ts'], how = 'left')"
      ],
      "id": "a778c10e",
      "execution_count": null,
      "outputs": []
    },
    {
      "cell_type": "code",
      "metadata": {
        "colab": {
          "base_uri": "https://localhost:8080/",
          "height": 424
        },
        "id": "ee82689b",
        "scrolled": true,
        "outputId": "caa9c988-5015-4a6d-9dc8-192c473248f7"
      },
      "source": [
        "analyze"
      ],
      "id": "ee82689b",
      "execution_count": null,
      "outputs": [
        {
          "output_type": "execute_result",
          "data": {
            "text/html": [
              "<div>\n",
              "<style scoped>\n",
              "    .dataframe tbody tr th:only-of-type {\n",
              "        vertical-align: middle;\n",
              "    }\n",
              "\n",
              "    .dataframe tbody tr th {\n",
              "        vertical-align: top;\n",
              "    }\n",
              "\n",
              "    .dataframe thead th {\n",
              "        text-align: right;\n",
              "    }\n",
              "</style>\n",
              "<table border=\"1\" class=\"dataframe\">\n",
              "  <thead>\n",
              "    <tr style=\"text-align: right;\">\n",
              "      <th></th>\n",
              "      <th>unit</th>\n",
              "      <th>ts</th>\n",
              "      <th>qty</th>\n",
              "      <th>qty_pre</th>\n",
              "    </tr>\n",
              "  </thead>\n",
              "  <tbody>\n",
              "    <tr>\n",
              "      <th>0</th>\n",
              "      <td>0efede250ca3d05f9d4cc3609242d804</td>\n",
              "      <td>2021-03-02</td>\n",
              "      <td>3437.199978</td>\n",
              "      <td>3216.700945</td>\n",
              "    </tr>\n",
              "    <tr>\n",
              "      <th>1</th>\n",
              "      <td>fbb83aefc6f5d6f6bc22ae3ee757d327</td>\n",
              "      <td>2021-03-02</td>\n",
              "      <td>34.067925</td>\n",
              "      <td>51.150187</td>\n",
              "    </tr>\n",
              "    <tr>\n",
              "      <th>2</th>\n",
              "      <td>392aaa20e70b4d7539cc7a2e09562521</td>\n",
              "      <td>2021-03-02</td>\n",
              "      <td>34.856490</td>\n",
              "      <td>49.285081</td>\n",
              "    </tr>\n",
              "    <tr>\n",
              "      <th>3</th>\n",
              "      <td>2effa036807329a88056093fabb07ce6</td>\n",
              "      <td>2021-03-02</td>\n",
              "      <td>36677.666667</td>\n",
              "      <td>36168.939016</td>\n",
              "    </tr>\n",
              "    <tr>\n",
              "      <th>4</th>\n",
              "      <td>7dc25ea61b4d47f7de6c7a8d8d559487</td>\n",
              "      <td>2021-03-02</td>\n",
              "      <td>56688.333333</td>\n",
              "      <td>57862.451527</td>\n",
              "    </tr>\n",
              "    <tr>\n",
              "      <th>...</th>\n",
              "      <td>...</td>\n",
              "      <td>...</td>\n",
              "      <td>...</td>\n",
              "      <td>...</td>\n",
              "    </tr>\n",
              "    <tr>\n",
              "      <th>61931</th>\n",
              "      <td>27678e453a20126fee7e719fb4b6f933</td>\n",
              "      <td>2021-06-07</td>\n",
              "      <td>299.333333</td>\n",
              "      <td>270.521660</td>\n",
              "    </tr>\n",
              "    <tr>\n",
              "      <th>61932</th>\n",
              "      <td>a31b6fc53d57419631077bbfe4b241ba</td>\n",
              "      <td>2021-06-07</td>\n",
              "      <td>13695.666667</td>\n",
              "      <td>9152.683892</td>\n",
              "    </tr>\n",
              "    <tr>\n",
              "      <th>61933</th>\n",
              "      <td>8a54612bdaf867b47ca31e7ecc225021</td>\n",
              "      <td>2021-06-07</td>\n",
              "      <td>24504.666667</td>\n",
              "      <td>23744.845177</td>\n",
              "    </tr>\n",
              "    <tr>\n",
              "      <th>61934</th>\n",
              "      <td>9b8f48bacb1a63612f3a210ccc6286cc</td>\n",
              "      <td>2021-06-07</td>\n",
              "      <td>15317.428600</td>\n",
              "      <td>15288.069939</td>\n",
              "    </tr>\n",
              "    <tr>\n",
              "      <th>61935</th>\n",
              "      <td>b035f859cf03840b75abd80dc1cf3e94</td>\n",
              "      <td>2021-06-07</td>\n",
              "      <td>14.813658</td>\n",
              "      <td>36.699367</td>\n",
              "    </tr>\n",
              "  </tbody>\n",
              "</table>\n",
              "<p>61936 rows × 4 columns</p>\n",
              "</div>"
            ],
            "text/plain": [
              "                                   unit          ts           qty       qty_pre\n",
              "0      0efede250ca3d05f9d4cc3609242d804  2021-03-02   3437.199978   3216.700945\n",
              "1      fbb83aefc6f5d6f6bc22ae3ee757d327  2021-03-02     34.067925     51.150187\n",
              "2      392aaa20e70b4d7539cc7a2e09562521  2021-03-02     34.856490     49.285081\n",
              "3      2effa036807329a88056093fabb07ce6  2021-03-02  36677.666667  36168.939016\n",
              "4      7dc25ea61b4d47f7de6c7a8d8d559487  2021-03-02  56688.333333  57862.451527\n",
              "...                                 ...         ...           ...           ...\n",
              "61931  27678e453a20126fee7e719fb4b6f933  2021-06-07    299.333333    270.521660\n",
              "61932  a31b6fc53d57419631077bbfe4b241ba  2021-06-07  13695.666667   9152.683892\n",
              "61933  8a54612bdaf867b47ca31e7ecc225021  2021-06-07  24504.666667  23744.845177\n",
              "61934  9b8f48bacb1a63612f3a210ccc6286cc  2021-06-07  15317.428600  15288.069939\n",
              "61935  b035f859cf03840b75abd80dc1cf3e94  2021-06-07     14.813658     36.699367\n",
              "\n",
              "[61936 rows x 4 columns]"
            ]
          },
          "metadata": {},
          "execution_count": 14
        }
      ]
    },
    {
      "cell_type": "code",
      "metadata": {
        "colab": {
          "base_uri": "https://localhost:8080/"
        },
        "id": "521d01ab",
        "outputId": "4d4273b2-4a94-4708-be84-337e34e49e9a"
      },
      "source": [
        "# 查看mae\n",
        "from sklearn.metrics import mean_absolute_error\n",
        "y_true = analyze['qty']\n",
        "y_pred = analyze['qty_pre']\n",
        "mean_absolute_error(y_true, y_pred)"
      ],
      "id": "521d01ab",
      "execution_count": null,
      "outputs": [
        {
          "output_type": "execute_result",
          "data": {
            "text/plain": [
              "476.4757067233442"
            ]
          },
          "metadata": {},
          "execution_count": 15
        }
      ]
    },
    {
      "cell_type": "markdown",
      "metadata": {
        "id": "1bFNurdnoFO7"
      },
      "source": [
        "更多使用案例请参考: [autox](https://github.com/4paradigm/autox?spm=5176.21852664.0.0.5594640eeR1PoH)"
      ],
      "id": "1bFNurdnoFO7"
    },
    {
      "cell_type": "code",
      "metadata": {
        "colab": {
          "background_save": true
        },
        "id": "081a435e"
      },
      "source": [
        ""
      ],
      "id": "081a435e",
      "execution_count": null,
      "outputs": []
    }
  ]
}